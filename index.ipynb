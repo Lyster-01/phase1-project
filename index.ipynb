{
 "cells": [
  {
   "cell_type": "markdown",
   "metadata": {},
   "source": [
    "# PHASE 1 PROJECT"
   ]
  },
  {
   "cell_type": "markdown",
   "metadata": {},
   "source": [
    "# AIRCRAFT RISK EVALUATION"
   ]
  },
  {
   "cell_type": "markdown",
   "metadata": {},
   "source": [
    "# OVERVIEW"
   ]
  },
  {
   "cell_type": "markdown",
   "metadata": {},
   "source": [
    "##### our company is expanding in to new industries to diversify its portfolio. Specifically, they are interested in purchasing and operating airplanes for commercial and private enterprise  which will be a key step in our growth strategy. To align this expansion with our strategic goals, we will rely on data-driven insights to inform our decisions. A thorough risk assessment will be carried out using aviation accident data spanning from 1993 to 2023. The analysis aims to identify aircraft models with a lower likelihood of severe accidents or operational failures, determine locations that pose higher risks for aircraft operations, and assess the optimal number of engines required for stable and safe flights."
   ]
  },
  {
   "cell_type": "markdown",
   "metadata": {},
   "source": [
    "# BUSINESS UNDERSTANDING"
   ]
  },
  {
   "cell_type": "markdown",
   "metadata": {},
   "source": [
    "##### Our company is expanding into the aviation industry, seeking to purchase and operate aircraft for both commercial and private enterprises. To ensure this venture is both safe and financially sustainable, we need to assess the risks associated with different aircraft models, operational environments, and structural designs. Specifically, the objectives of this analysis are to:\n",
    "\n",
    "##### 1.Identify aircraft models with a highest likelihood of severe accidents or operational failures.\n",
    "\n",
    " ##### 2.Pinpoint locations that have historically proven risky for aircraft operations, highlighting potential geographic safety concerns.\n",
    "\n",
    "##### 3.Determine the number of engines sufficient for ensuring the stability and safety of aircraft operations.\n",
    "\n",
    "##### By achieving these objectives, we will be able to select aircraft models and operational strategies that align with the company’s goals of safety, reliability, and cost-effectiveness, minimizing potential risks as we enter this new industry.\n",
    "\n",
    "\n",
    "\n",
    "\n",
    "\n",
    "\n",
    "\n"
   ]
  },
  {
   "cell_type": "markdown",
   "metadata": {},
   "source": [
    "# DATA PREPARATION:\n",
    "##### 1.The data was cleaned using the VSCODE code editor. The python pandas library and numpy library was imported for analysis. In the data cleaning the data underwent several steps which include:\n",
    "\n",
    "##### 2.Importing the relevant python libraries.\n",
    "##### 3.Loading and reading the CSV file.\n",
    "##### 4.Inspected the data to understand it by checking the information and the summary statistics\n",
    "##### 4.Data Cleaning.\n",
    "##### 5.Checked all the missing values,duplicates,erroneus values and dropped all the irrelevant columns with the missing values \n",
    "##### 6.Filled in all the numerical columns with missing values with 0 and all the categorical columns with missing values with unknown.\n",
    "##### 7.Stripped all the white spaces."
   ]
  },
  {
   "cell_type": "markdown",
   "metadata": {},
   "source": [
    "## 1. Import Pandas and load the csv dataset"
   ]
  },
  {
   "cell_type": "code",
   "execution_count": 122,
   "metadata": {},
   "outputs": [],
   "source": [
    "import pandas as pd\n",
    "import numpy as np\n",
    "from matplotlib import pyplot as plt\n",
    "%matplotlib inline\n"
   ]
  },
  {
   "cell_type": "code",
   "execution_count": 123,
   "metadata": {},
   "outputs": [
    {
     "name": "stdout",
     "output_type": "stream",
     "text": [
      "This data consists of 88889 rows\n",
      "This data consists of 31 columns\n"
     ]
    },
    {
     "data": {
      "text/html": [
       "<div>\n",
       "<style scoped>\n",
       "    .dataframe tbody tr th:only-of-type {\n",
       "        vertical-align: middle;\n",
       "    }\n",
       "\n",
       "    .dataframe tbody tr th {\n",
       "        vertical-align: top;\n",
       "    }\n",
       "\n",
       "    .dataframe thead th {\n",
       "        text-align: right;\n",
       "    }\n",
       "</style>\n",
       "<table border=\"1\" class=\"dataframe\">\n",
       "  <thead>\n",
       "    <tr style=\"text-align: right;\">\n",
       "      <th></th>\n",
       "      <th>Event.Id</th>\n",
       "      <th>Investigation.Type</th>\n",
       "      <th>Accident.Number</th>\n",
       "      <th>Event.Date</th>\n",
       "      <th>Location</th>\n",
       "      <th>Country</th>\n",
       "      <th>Latitude</th>\n",
       "      <th>Longitude</th>\n",
       "      <th>Airport.Code</th>\n",
       "      <th>Airport.Name</th>\n",
       "      <th>...</th>\n",
       "      <th>Purpose.of.flight</th>\n",
       "      <th>Air.carrier</th>\n",
       "      <th>Total.Fatal.Injuries</th>\n",
       "      <th>Total.Serious.Injuries</th>\n",
       "      <th>Total.Minor.Injuries</th>\n",
       "      <th>Total.Uninjured</th>\n",
       "      <th>Weather.Condition</th>\n",
       "      <th>Broad.phase.of.flight</th>\n",
       "      <th>Report.Status</th>\n",
       "      <th>Publication.Date</th>\n",
       "    </tr>\n",
       "  </thead>\n",
       "  <tbody>\n",
       "    <tr>\n",
       "      <th>0</th>\n",
       "      <td>20001218X45444</td>\n",
       "      <td>Accident</td>\n",
       "      <td>SEA87LA080</td>\n",
       "      <td>1948-10-24</td>\n",
       "      <td>MOOSE CREEK, ID</td>\n",
       "      <td>United States</td>\n",
       "      <td>NaN</td>\n",
       "      <td>NaN</td>\n",
       "      <td>NaN</td>\n",
       "      <td>NaN</td>\n",
       "      <td>...</td>\n",
       "      <td>Personal</td>\n",
       "      <td>NaN</td>\n",
       "      <td>2.0</td>\n",
       "      <td>0.0</td>\n",
       "      <td>0.0</td>\n",
       "      <td>0.0</td>\n",
       "      <td>UNK</td>\n",
       "      <td>Cruise</td>\n",
       "      <td>Probable Cause</td>\n",
       "      <td>NaN</td>\n",
       "    </tr>\n",
       "    <tr>\n",
       "      <th>1</th>\n",
       "      <td>20001218X45447</td>\n",
       "      <td>Accident</td>\n",
       "      <td>LAX94LA336</td>\n",
       "      <td>1962-07-19</td>\n",
       "      <td>BRIDGEPORT, CA</td>\n",
       "      <td>United States</td>\n",
       "      <td>NaN</td>\n",
       "      <td>NaN</td>\n",
       "      <td>NaN</td>\n",
       "      <td>NaN</td>\n",
       "      <td>...</td>\n",
       "      <td>Personal</td>\n",
       "      <td>NaN</td>\n",
       "      <td>4.0</td>\n",
       "      <td>0.0</td>\n",
       "      <td>0.0</td>\n",
       "      <td>0.0</td>\n",
       "      <td>UNK</td>\n",
       "      <td>Unknown</td>\n",
       "      <td>Probable Cause</td>\n",
       "      <td>19-09-1996</td>\n",
       "    </tr>\n",
       "    <tr>\n",
       "      <th>2</th>\n",
       "      <td>20061025X01555</td>\n",
       "      <td>Accident</td>\n",
       "      <td>NYC07LA005</td>\n",
       "      <td>1974-08-30</td>\n",
       "      <td>Saltville, VA</td>\n",
       "      <td>United States</td>\n",
       "      <td>36.922223</td>\n",
       "      <td>-81.878056</td>\n",
       "      <td>NaN</td>\n",
       "      <td>NaN</td>\n",
       "      <td>...</td>\n",
       "      <td>Personal</td>\n",
       "      <td>NaN</td>\n",
       "      <td>3.0</td>\n",
       "      <td>NaN</td>\n",
       "      <td>NaN</td>\n",
       "      <td>NaN</td>\n",
       "      <td>IMC</td>\n",
       "      <td>Cruise</td>\n",
       "      <td>Probable Cause</td>\n",
       "      <td>26-02-2007</td>\n",
       "    </tr>\n",
       "    <tr>\n",
       "      <th>3</th>\n",
       "      <td>20001218X45448</td>\n",
       "      <td>Accident</td>\n",
       "      <td>LAX96LA321</td>\n",
       "      <td>1977-06-19</td>\n",
       "      <td>EUREKA, CA</td>\n",
       "      <td>United States</td>\n",
       "      <td>NaN</td>\n",
       "      <td>NaN</td>\n",
       "      <td>NaN</td>\n",
       "      <td>NaN</td>\n",
       "      <td>...</td>\n",
       "      <td>Personal</td>\n",
       "      <td>NaN</td>\n",
       "      <td>2.0</td>\n",
       "      <td>0.0</td>\n",
       "      <td>0.0</td>\n",
       "      <td>0.0</td>\n",
       "      <td>IMC</td>\n",
       "      <td>Cruise</td>\n",
       "      <td>Probable Cause</td>\n",
       "      <td>12-09-2000</td>\n",
       "    </tr>\n",
       "    <tr>\n",
       "      <th>4</th>\n",
       "      <td>20041105X01764</td>\n",
       "      <td>Accident</td>\n",
       "      <td>CHI79FA064</td>\n",
       "      <td>1979-08-02</td>\n",
       "      <td>Canton, OH</td>\n",
       "      <td>United States</td>\n",
       "      <td>NaN</td>\n",
       "      <td>NaN</td>\n",
       "      <td>NaN</td>\n",
       "      <td>NaN</td>\n",
       "      <td>...</td>\n",
       "      <td>Personal</td>\n",
       "      <td>NaN</td>\n",
       "      <td>1.0</td>\n",
       "      <td>2.0</td>\n",
       "      <td>NaN</td>\n",
       "      <td>0.0</td>\n",
       "      <td>VMC</td>\n",
       "      <td>Approach</td>\n",
       "      <td>Probable Cause</td>\n",
       "      <td>16-04-1980</td>\n",
       "    </tr>\n",
       "  </tbody>\n",
       "</table>\n",
       "<p>5 rows × 31 columns</p>\n",
       "</div>"
      ],
      "text/plain": [
       "         Event.Id Investigation.Type Accident.Number  Event.Date  \\\n",
       "0  20001218X45444           Accident      SEA87LA080  1948-10-24   \n",
       "1  20001218X45447           Accident      LAX94LA336  1962-07-19   \n",
       "2  20061025X01555           Accident      NYC07LA005  1974-08-30   \n",
       "3  20001218X45448           Accident      LAX96LA321  1977-06-19   \n",
       "4  20041105X01764           Accident      CHI79FA064  1979-08-02   \n",
       "\n",
       "          Location        Country   Latitude   Longitude Airport.Code  \\\n",
       "0  MOOSE CREEK, ID  United States        NaN         NaN          NaN   \n",
       "1   BRIDGEPORT, CA  United States        NaN         NaN          NaN   \n",
       "2    Saltville, VA  United States  36.922223  -81.878056          NaN   \n",
       "3       EUREKA, CA  United States        NaN         NaN          NaN   \n",
       "4       Canton, OH  United States        NaN         NaN          NaN   \n",
       "\n",
       "  Airport.Name  ... Purpose.of.flight Air.carrier Total.Fatal.Injuries  \\\n",
       "0          NaN  ...          Personal         NaN                  2.0   \n",
       "1          NaN  ...          Personal         NaN                  4.0   \n",
       "2          NaN  ...          Personal         NaN                  3.0   \n",
       "3          NaN  ...          Personal         NaN                  2.0   \n",
       "4          NaN  ...          Personal         NaN                  1.0   \n",
       "\n",
       "  Total.Serious.Injuries Total.Minor.Injuries Total.Uninjured  \\\n",
       "0                    0.0                  0.0             0.0   \n",
       "1                    0.0                  0.0             0.0   \n",
       "2                    NaN                  NaN             NaN   \n",
       "3                    0.0                  0.0             0.0   \n",
       "4                    2.0                  NaN             0.0   \n",
       "\n",
       "  Weather.Condition  Broad.phase.of.flight   Report.Status Publication.Date  \n",
       "0               UNK                 Cruise  Probable Cause              NaN  \n",
       "1               UNK                Unknown  Probable Cause       19-09-1996  \n",
       "2               IMC                 Cruise  Probable Cause       26-02-2007  \n",
       "3               IMC                 Cruise  Probable Cause       12-09-2000  \n",
       "4               VMC               Approach  Probable Cause       16-04-1980  \n",
       "\n",
       "[5 rows x 31 columns]"
      ]
     },
     "execution_count": 123,
     "metadata": {},
     "output_type": "execute_result"
    }
   ],
   "source": [
    "#Load the Avaiation dataset\n",
    "df = pd.read_csv('AviationData.csv',encoding = 'latin1',low_memory=False)\n",
    "#Display the shape of the dataset \n",
    "df.shape\n",
    "print(f'This data consists of {df.shape[0]} rows')\n",
    "print(f'This data consists of {df.shape[1]} columns')\n",
    "\n",
    "\n",
    "#Display the first few rows of the dataset\n",
    "df.head()"
   ]
  },
  {
   "cell_type": "markdown",
   "metadata": {},
   "source": [
    "## 2.Check the info and summary statistics of the dataset"
   ]
  },
  {
   "cell_type": "code",
   "execution_count": 124,
   "metadata": {},
   "outputs": [
    {
     "name": "stdout",
     "output_type": "stream",
     "text": [
      "<class 'pandas.core.frame.DataFrame'>\n",
      "RangeIndex: 88889 entries, 0 to 88888\n",
      "Data columns (total 31 columns):\n",
      " #   Column                  Non-Null Count  Dtype  \n",
      "---  ------                  --------------  -----  \n",
      " 0   Event.Id                88889 non-null  object \n",
      " 1   Investigation.Type      88889 non-null  object \n",
      " 2   Accident.Number         88889 non-null  object \n",
      " 3   Event.Date              88889 non-null  object \n",
      " 4   Location                88837 non-null  object \n",
      " 5   Country                 88663 non-null  object \n",
      " 6   Latitude                34382 non-null  object \n",
      " 7   Longitude               34373 non-null  object \n",
      " 8   Airport.Code            50249 non-null  object \n",
      " 9   Airport.Name            52790 non-null  object \n",
      " 10  Injury.Severity         87889 non-null  object \n",
      " 11  Aircraft.damage         85695 non-null  object \n",
      " 12  Aircraft.Category       32287 non-null  object \n",
      " 13  Registration.Number     87572 non-null  object \n",
      " 14  Make                    88826 non-null  object \n",
      " 15  Model                   88797 non-null  object \n",
      " 16  Amateur.Built           88787 non-null  object \n",
      " 17  Number.of.Engines       82805 non-null  float64\n",
      " 18  Engine.Type             81812 non-null  object \n",
      " 19  FAR.Description         32023 non-null  object \n",
      " 20  Schedule                12582 non-null  object \n",
      " 21  Purpose.of.flight       82697 non-null  object \n",
      " 22  Air.carrier             16648 non-null  object \n",
      " 23  Total.Fatal.Injuries    77488 non-null  float64\n",
      " 24  Total.Serious.Injuries  76379 non-null  float64\n",
      " 25  Total.Minor.Injuries    76956 non-null  float64\n",
      " 26  Total.Uninjured         82977 non-null  float64\n",
      " 27  Weather.Condition       84397 non-null  object \n",
      " 28  Broad.phase.of.flight   61724 non-null  object \n",
      " 29  Report.Status           82508 non-null  object \n",
      " 30  Publication.Date        75118 non-null  object \n",
      "dtypes: float64(5), object(26)\n",
      "memory usage: 21.0+ MB\n"
     ]
    }
   ],
   "source": [
    "#check for the information of the dataset\n",
    "df.info()"
   ]
  },
  {
   "cell_type": "code",
   "execution_count": 125,
   "metadata": {},
   "outputs": [
    {
     "data": {
      "text/html": [
       "<div>\n",
       "<style scoped>\n",
       "    .dataframe tbody tr th:only-of-type {\n",
       "        vertical-align: middle;\n",
       "    }\n",
       "\n",
       "    .dataframe tbody tr th {\n",
       "        vertical-align: top;\n",
       "    }\n",
       "\n",
       "    .dataframe thead th {\n",
       "        text-align: right;\n",
       "    }\n",
       "</style>\n",
       "<table border=\"1\" class=\"dataframe\">\n",
       "  <thead>\n",
       "    <tr style=\"text-align: right;\">\n",
       "      <th></th>\n",
       "      <th>Number.of.Engines</th>\n",
       "      <th>Total.Fatal.Injuries</th>\n",
       "      <th>Total.Serious.Injuries</th>\n",
       "      <th>Total.Minor.Injuries</th>\n",
       "      <th>Total.Uninjured</th>\n",
       "    </tr>\n",
       "  </thead>\n",
       "  <tbody>\n",
       "    <tr>\n",
       "      <th>count</th>\n",
       "      <td>82805.000000</td>\n",
       "      <td>77488.000000</td>\n",
       "      <td>76379.000000</td>\n",
       "      <td>76956.000000</td>\n",
       "      <td>82977.000000</td>\n",
       "    </tr>\n",
       "    <tr>\n",
       "      <th>mean</th>\n",
       "      <td>1.146585</td>\n",
       "      <td>0.647855</td>\n",
       "      <td>0.279881</td>\n",
       "      <td>0.357061</td>\n",
       "      <td>5.325440</td>\n",
       "    </tr>\n",
       "    <tr>\n",
       "      <th>std</th>\n",
       "      <td>0.446510</td>\n",
       "      <td>5.485960</td>\n",
       "      <td>1.544084</td>\n",
       "      <td>2.235625</td>\n",
       "      <td>27.913634</td>\n",
       "    </tr>\n",
       "    <tr>\n",
       "      <th>min</th>\n",
       "      <td>0.000000</td>\n",
       "      <td>0.000000</td>\n",
       "      <td>0.000000</td>\n",
       "      <td>0.000000</td>\n",
       "      <td>0.000000</td>\n",
       "    </tr>\n",
       "    <tr>\n",
       "      <th>25%</th>\n",
       "      <td>1.000000</td>\n",
       "      <td>0.000000</td>\n",
       "      <td>0.000000</td>\n",
       "      <td>0.000000</td>\n",
       "      <td>0.000000</td>\n",
       "    </tr>\n",
       "    <tr>\n",
       "      <th>50%</th>\n",
       "      <td>1.000000</td>\n",
       "      <td>0.000000</td>\n",
       "      <td>0.000000</td>\n",
       "      <td>0.000000</td>\n",
       "      <td>1.000000</td>\n",
       "    </tr>\n",
       "    <tr>\n",
       "      <th>75%</th>\n",
       "      <td>1.000000</td>\n",
       "      <td>0.000000</td>\n",
       "      <td>0.000000</td>\n",
       "      <td>0.000000</td>\n",
       "      <td>2.000000</td>\n",
       "    </tr>\n",
       "    <tr>\n",
       "      <th>max</th>\n",
       "      <td>8.000000</td>\n",
       "      <td>349.000000</td>\n",
       "      <td>161.000000</td>\n",
       "      <td>380.000000</td>\n",
       "      <td>699.000000</td>\n",
       "    </tr>\n",
       "  </tbody>\n",
       "</table>\n",
       "</div>"
      ],
      "text/plain": [
       "       Number.of.Engines  Total.Fatal.Injuries  Total.Serious.Injuries  \\\n",
       "count       82805.000000          77488.000000            76379.000000   \n",
       "mean            1.146585              0.647855                0.279881   \n",
       "std             0.446510              5.485960                1.544084   \n",
       "min             0.000000              0.000000                0.000000   \n",
       "25%             1.000000              0.000000                0.000000   \n",
       "50%             1.000000              0.000000                0.000000   \n",
       "75%             1.000000              0.000000                0.000000   \n",
       "max             8.000000            349.000000              161.000000   \n",
       "\n",
       "       Total.Minor.Injuries  Total.Uninjured  \n",
       "count          76956.000000     82977.000000  \n",
       "mean               0.357061         5.325440  \n",
       "std                2.235625        27.913634  \n",
       "min                0.000000         0.000000  \n",
       "25%                0.000000         0.000000  \n",
       "50%                0.000000         1.000000  \n",
       "75%                0.000000         2.000000  \n",
       "max              380.000000       699.000000  "
      ]
     },
     "execution_count": 125,
     "metadata": {},
     "output_type": "execute_result"
    }
   ],
   "source": [
    "#Check the summary statistics of the dataset\n",
    "df.describe()"
   ]
  },
  {
   "cell_type": "markdown",
   "metadata": {},
   "source": []
  },
  {
   "cell_type": "markdown",
   "metadata": {},
   "source": []
  },
  {
   "cell_type": "markdown",
   "metadata": {},
   "source": [
    "## 4. Data Cleaning process"
   ]
  },
  {
   "cell_type": "markdown",
   "metadata": {},
   "source": [
    "#### Investigate the Dataset for Duplicate, Extraneous and Missing values"
   ]
  },
  {
   "cell_type": "code",
   "execution_count": 126,
   "metadata": {},
   "outputs": [
    {
     "name": "stdout",
     "output_type": "stream",
     "text": [
      "False    88889\n",
      "dtype: int64\n",
      "The number of duplicates are: 0\n"
     ]
    }
   ],
   "source": [
    "# Check for duplicate values\n",
    "df_Duplicates = df.duplicated().value_counts()\n",
    "print(df_Duplicates)\n",
    "\n",
    "# Check for the length of duplicate values\n",
    "duplicates = df[df.duplicated()]\n",
    "print('The number of duplicates are:',len(duplicates))\n",
    "# duplicates.head()"
   ]
  },
  {
   "cell_type": "markdown",
   "metadata": {},
   "source": [
    "##### There are no duplicate values as shown from the output above."
   ]
  },
  {
   "cell_type": "code",
   "execution_count": 127,
   "metadata": {},
   "outputs": [
    {
     "data": {
      "text/plain": [
       "Event.Id                      0\n",
       "Investigation.Type            0\n",
       "Accident.Number               0\n",
       "Event.Date                    0\n",
       "Location                     52\n",
       "Country                     226\n",
       "Latitude                  54507\n",
       "Longitude                 54516\n",
       "Airport.Code              38640\n",
       "Airport.Name              36099\n",
       "Injury.Severity            1000\n",
       "Aircraft.damage            3194\n",
       "Aircraft.Category         56602\n",
       "Registration.Number        1317\n",
       "Make                         63\n",
       "Model                        92\n",
       "Amateur.Built               102\n",
       "Number.of.Engines          6084\n",
       "Engine.Type                7077\n",
       "FAR.Description           56866\n",
       "Schedule                  76307\n",
       "Purpose.of.flight          6192\n",
       "Air.carrier               72241\n",
       "Total.Fatal.Injuries      11401\n",
       "Total.Serious.Injuries    12510\n",
       "Total.Minor.Injuries      11933\n",
       "Total.Uninjured            5912\n",
       "Weather.Condition          4492\n",
       "Broad.phase.of.flight     27165\n",
       "Report.Status              6381\n",
       "Publication.Date          13771\n",
       "dtype: int64"
      ]
     },
     "execution_count": 127,
     "metadata": {},
     "output_type": "execute_result"
    }
   ],
   "source": [
    "# Check for missing values in each column of the dataframe \n",
    "df.isna().sum()"
   ]
  },
  {
   "cell_type": "markdown",
   "metadata": {},
   "source": [
    "##### From the output above there are a number of columns that have many missing values and are not really relevant for our analysis. These columns that we would consider dropping are: Aircraft.Category, FAR.Description, Schedule, Air.carrier,Latitude, Longitude, Airport.Code, Airport.Name.\n",
    " "
   ]
  },
  {
   "cell_type": "code",
   "execution_count": 128,
   "metadata": {},
   "outputs": [],
   "source": [
    "df.drop(['Aircraft.Category', 'Registration.Number','FAR.Description', 'Schedule', 'Air.carrier', 'Latitude', 'Longitude', 'Airport.Code', 'Airport.Name'], \n",
    "\t\taxis=1, inplace=True)"
   ]
  },
  {
   "cell_type": "code",
   "execution_count": 129,
   "metadata": {},
   "outputs": [
    {
     "data": {
      "text/plain": [
       "Event.Id                      0\n",
       "Investigation.Type            0\n",
       "Accident.Number               0\n",
       "Event.Date                    0\n",
       "Location                     52\n",
       "Country                     226\n",
       "Injury.Severity            1000\n",
       "Aircraft.damage            3194\n",
       "Make                         63\n",
       "Model                        92\n",
       "Amateur.Built               102\n",
       "Number.of.Engines          6084\n",
       "Engine.Type                7077\n",
       "Purpose.of.flight          6192\n",
       "Total.Fatal.Injuries      11401\n",
       "Total.Serious.Injuries    12510\n",
       "Total.Minor.Injuries      11933\n",
       "Total.Uninjured            5912\n",
       "Weather.Condition          4492\n",
       "Broad.phase.of.flight     27165\n",
       "Report.Status              6381\n",
       "Publication.Date          13771\n",
       "dtype: int64"
      ]
     },
     "execution_count": 129,
     "metadata": {},
     "output_type": "execute_result"
    }
   ],
   "source": [
    "#Check again to now see the remaining columns and figure out how to deal with the relevant columns with missing values\n",
    "df.isna().sum()"
   ]
  },
  {
   "cell_type": "markdown",
   "metadata": {},
   "source": [
    "### Handling the missing values\n"
   ]
  },
  {
   "cell_type": "markdown",
   "metadata": {},
   "source": [
    "##### We create a copy of the dataframe before replacing the missing values for the original data to remain unchanged. This would also allow us to refer back to the original data if needed and also prevents accidental modifications of important information"
   ]
  },
  {
   "cell_type": "code",
   "execution_count": 130,
   "metadata": {},
   "outputs": [],
   "source": [
    " df_clean = df.copy()"
   ]
  },
  {
   "cell_type": "markdown",
   "metadata": {},
   "source": [
    "##### We check the data types of the columns to know what data type we are going to use to fill in the missing values."
   ]
  },
  {
   "cell_type": "code",
   "execution_count": 131,
   "metadata": {},
   "outputs": [
    {
     "data": {
      "text/plain": [
       "Event.Id                   object\n",
       "Investigation.Type         object\n",
       "Accident.Number            object\n",
       "Event.Date                 object\n",
       "Location                   object\n",
       "Country                    object\n",
       "Injury.Severity            object\n",
       "Aircraft.damage            object\n",
       "Make                       object\n",
       "Model                      object\n",
       "Amateur.Built              object\n",
       "Number.of.Engines         float64\n",
       "Engine.Type                object\n",
       "Purpose.of.flight          object\n",
       "Total.Fatal.Injuries      float64\n",
       "Total.Serious.Injuries    float64\n",
       "Total.Minor.Injuries      float64\n",
       "Total.Uninjured           float64\n",
       "Weather.Condition          object\n",
       "Broad.phase.of.flight      object\n",
       "Report.Status              object\n",
       "Publication.Date           object\n",
       "dtype: object"
      ]
     },
     "execution_count": 131,
     "metadata": {},
     "output_type": "execute_result"
    }
   ],
   "source": [
    "df_clean.dtypes"
   ]
  },
  {
   "cell_type": "code",
   "execution_count": 132,
   "metadata": {},
   "outputs": [
    {
     "name": "stdout",
     "output_type": "stream",
     "text": [
      "Index(['Number.of.Engines', 'Total.Fatal.Injuries', 'Total.Serious.Injuries',\n",
      "       'Total.Minor.Injuries', 'Total.Uninjured'],\n",
      "      dtype='object')\n"
     ]
    }
   ],
   "source": [
    "#check for the remaining numerical columns \n",
    "numerical_columns = df_clean.select_dtypes(include=['number']).columns\n",
    "print(numerical_columns)"
   ]
  },
  {
   "cell_type": "markdown",
   "metadata": {},
   "source": [
    "##### In the cell below we are filling in the continous columns that have missing values with 0 .The Number.of.Engines column is filled in  with the mean since it wouldn't be logical to give an aircraft zero engine. All functional aircrafts have atleast one engine."
   ]
  },
  {
   "cell_type": "code",
   "execution_count": 133,
   "metadata": {},
   "outputs": [],
   "source": [
    "# Replacing the Number.of.Engines column with the mean\n",
    "df_clean['Number.of.Engines'].fillna(df['Number.of.Engines'].mean(), inplace=True)\n",
    "# Replacing Null values in numerical columns with 0\n",
    "numerical_colums= [ 'Total.Fatal.Injuries', 'Total.Serious.Injuries',\n",
    "       'Total.Minor.Injuries', 'Total.Uninjured']\n",
    "for col in numerical_columns:\n",
    "    df_clean[col] = df_clean[col].fillna(0)  # Replacing Null values with 0\n",
    "    \n"
   ]
  },
  {
   "cell_type": "markdown",
   "metadata": {},
   "source": [
    "##### In the cell below we are filling in  the categorical columns with missing values with the string 'unknown' "
   ]
  },
  {
   "cell_type": "code",
   "execution_count": 134,
   "metadata": {},
   "outputs": [
    {
     "name": "stdout",
     "output_type": "stream",
     "text": [
      "Index(['Event.Id', 'Investigation.Type', 'Accident.Number', 'Event.Date',\n",
      "       'Location', 'Country', 'Injury.Severity', 'Aircraft.damage', 'Make',\n",
      "       'Model', 'Amateur.Built', 'Engine.Type', 'Purpose.of.flight',\n",
      "       'Weather.Condition', 'Broad.phase.of.flight', 'Report.Status',\n",
      "       'Publication.Date'],\n",
      "      dtype='object')\n"
     ]
    }
   ],
   "source": [
    "#First  check for the categorical columns.\n",
    "categorical_columns = df_clean.select_dtypes(include=['object', 'category']).columns\n",
    "print(categorical_columns)"
   ]
  },
  {
   "cell_type": "code",
   "execution_count": 135,
   "metadata": {},
   "outputs": [],
   "source": [
    "#Filling the Null values in the categorical columns with the value 'Unknown'\n",
    "categorical_columns = ['Event.Id', 'Investigation.Type', 'Accident.Number', 'Event.Date',\n",
    "       'Location', 'Country', 'Injury.Severity', 'Aircraft.damage', 'Make',\n",
    "       'Model', 'Amateur.Built', 'Engine.Type', 'Purpose.of.flight',\n",
    "       'Weather.Condition', 'Broad.phase.of.flight', 'Report.Status',\n",
    "       'Publication.Date']\n",
    "for col in categorical_columns:\n",
    "    df_clean[col] = df_clean[col].fillna('Unknown')  \n",
    "    "
   ]
  },
  {
   "cell_type": "code",
   "execution_count": 136,
   "metadata": {},
   "outputs": [
    {
     "data": {
      "text/plain": [
       "Event.Id                  0\n",
       "Investigation.Type        0\n",
       "Accident.Number           0\n",
       "Event.Date                0\n",
       "Location                  0\n",
       "Country                   0\n",
       "Injury.Severity           0\n",
       "Aircraft.damage           0\n",
       "Make                      0\n",
       "Model                     0\n",
       "Amateur.Built             0\n",
       "Number.of.Engines         0\n",
       "Engine.Type               0\n",
       "Purpose.of.flight         0\n",
       "Total.Fatal.Injuries      0\n",
       "Total.Serious.Injuries    0\n",
       "Total.Minor.Injuries      0\n",
       "Total.Uninjured           0\n",
       "Weather.Condition         0\n",
       "Broad.phase.of.flight     0\n",
       "Report.Status             0\n",
       "Publication.Date          0\n",
       "dtype: int64"
      ]
     },
     "execution_count": 136,
     "metadata": {},
     "output_type": "execute_result"
    }
   ],
   "source": [
    "df_clean.isna().sum()\n"
   ]
  },
  {
   "cell_type": "code",
   "execution_count": 137,
   "metadata": {},
   "outputs": [
    {
     "data": {
      "text/html": [
       "<div>\n",
       "<style scoped>\n",
       "    .dataframe tbody tr th:only-of-type {\n",
       "        vertical-align: middle;\n",
       "    }\n",
       "\n",
       "    .dataframe tbody tr th {\n",
       "        vertical-align: top;\n",
       "    }\n",
       "\n",
       "    .dataframe thead th {\n",
       "        text-align: right;\n",
       "    }\n",
       "</style>\n",
       "<table border=\"1\" class=\"dataframe\">\n",
       "  <thead>\n",
       "    <tr style=\"text-align: right;\">\n",
       "      <th></th>\n",
       "      <th>Event.Id</th>\n",
       "      <th>Investigation.Type</th>\n",
       "      <th>Accident.Number</th>\n",
       "      <th>Event.Date</th>\n",
       "      <th>Location</th>\n",
       "      <th>Country</th>\n",
       "      <th>Injury.Severity</th>\n",
       "      <th>Aircraft.damage</th>\n",
       "      <th>Make</th>\n",
       "      <th>Model</th>\n",
       "      <th>...</th>\n",
       "      <th>Engine.Type</th>\n",
       "      <th>Purpose.of.flight</th>\n",
       "      <th>Total.Fatal.Injuries</th>\n",
       "      <th>Total.Serious.Injuries</th>\n",
       "      <th>Total.Minor.Injuries</th>\n",
       "      <th>Total.Uninjured</th>\n",
       "      <th>Weather.Condition</th>\n",
       "      <th>Broad.phase.of.flight</th>\n",
       "      <th>Report.Status</th>\n",
       "      <th>Publication.Date</th>\n",
       "    </tr>\n",
       "  </thead>\n",
       "  <tbody>\n",
       "    <tr>\n",
       "      <th>0</th>\n",
       "      <td>20001218X45444</td>\n",
       "      <td>Accident</td>\n",
       "      <td>SEA87LA080</td>\n",
       "      <td>1948-10-24</td>\n",
       "      <td>MOOSE CREEK, ID</td>\n",
       "      <td>United States</td>\n",
       "      <td>Fatal(2)</td>\n",
       "      <td>Destroyed</td>\n",
       "      <td>Stinson</td>\n",
       "      <td>108-3</td>\n",
       "      <td>...</td>\n",
       "      <td>Reciprocating</td>\n",
       "      <td>Personal</td>\n",
       "      <td>2.0</td>\n",
       "      <td>0.0</td>\n",
       "      <td>0.0</td>\n",
       "      <td>0.0</td>\n",
       "      <td>UNK</td>\n",
       "      <td>Cruise</td>\n",
       "      <td>Probable Cause</td>\n",
       "      <td>Unknown</td>\n",
       "    </tr>\n",
       "    <tr>\n",
       "      <th>1</th>\n",
       "      <td>20001218X45447</td>\n",
       "      <td>Accident</td>\n",
       "      <td>LAX94LA336</td>\n",
       "      <td>1962-07-19</td>\n",
       "      <td>BRIDGEPORT, CA</td>\n",
       "      <td>United States</td>\n",
       "      <td>Fatal(4)</td>\n",
       "      <td>Destroyed</td>\n",
       "      <td>Piper</td>\n",
       "      <td>PA24-180</td>\n",
       "      <td>...</td>\n",
       "      <td>Reciprocating</td>\n",
       "      <td>Personal</td>\n",
       "      <td>4.0</td>\n",
       "      <td>0.0</td>\n",
       "      <td>0.0</td>\n",
       "      <td>0.0</td>\n",
       "      <td>UNK</td>\n",
       "      <td>Unknown</td>\n",
       "      <td>Probable Cause</td>\n",
       "      <td>19-09-1996</td>\n",
       "    </tr>\n",
       "    <tr>\n",
       "      <th>2</th>\n",
       "      <td>20061025X01555</td>\n",
       "      <td>Accident</td>\n",
       "      <td>NYC07LA005</td>\n",
       "      <td>1974-08-30</td>\n",
       "      <td>Saltville, VA</td>\n",
       "      <td>United States</td>\n",
       "      <td>Fatal(3)</td>\n",
       "      <td>Destroyed</td>\n",
       "      <td>Cessna</td>\n",
       "      <td>172M</td>\n",
       "      <td>...</td>\n",
       "      <td>Reciprocating</td>\n",
       "      <td>Personal</td>\n",
       "      <td>3.0</td>\n",
       "      <td>0.0</td>\n",
       "      <td>0.0</td>\n",
       "      <td>0.0</td>\n",
       "      <td>IMC</td>\n",
       "      <td>Cruise</td>\n",
       "      <td>Probable Cause</td>\n",
       "      <td>26-02-2007</td>\n",
       "    </tr>\n",
       "    <tr>\n",
       "      <th>3</th>\n",
       "      <td>20001218X45448</td>\n",
       "      <td>Accident</td>\n",
       "      <td>LAX96LA321</td>\n",
       "      <td>1977-06-19</td>\n",
       "      <td>EUREKA, CA</td>\n",
       "      <td>United States</td>\n",
       "      <td>Fatal(2)</td>\n",
       "      <td>Destroyed</td>\n",
       "      <td>Rockwell</td>\n",
       "      <td>112</td>\n",
       "      <td>...</td>\n",
       "      <td>Reciprocating</td>\n",
       "      <td>Personal</td>\n",
       "      <td>2.0</td>\n",
       "      <td>0.0</td>\n",
       "      <td>0.0</td>\n",
       "      <td>0.0</td>\n",
       "      <td>IMC</td>\n",
       "      <td>Cruise</td>\n",
       "      <td>Probable Cause</td>\n",
       "      <td>12-09-2000</td>\n",
       "    </tr>\n",
       "    <tr>\n",
       "      <th>4</th>\n",
       "      <td>20041105X01764</td>\n",
       "      <td>Accident</td>\n",
       "      <td>CHI79FA064</td>\n",
       "      <td>1979-08-02</td>\n",
       "      <td>Canton, OH</td>\n",
       "      <td>United States</td>\n",
       "      <td>Fatal(1)</td>\n",
       "      <td>Destroyed</td>\n",
       "      <td>Cessna</td>\n",
       "      <td>501</td>\n",
       "      <td>...</td>\n",
       "      <td>Unknown</td>\n",
       "      <td>Personal</td>\n",
       "      <td>1.0</td>\n",
       "      <td>2.0</td>\n",
       "      <td>0.0</td>\n",
       "      <td>0.0</td>\n",
       "      <td>VMC</td>\n",
       "      <td>Approach</td>\n",
       "      <td>Probable Cause</td>\n",
       "      <td>16-04-1980</td>\n",
       "    </tr>\n",
       "  </tbody>\n",
       "</table>\n",
       "<p>5 rows × 22 columns</p>\n",
       "</div>"
      ],
      "text/plain": [
       "         Event.Id Investigation.Type Accident.Number  Event.Date  \\\n",
       "0  20001218X45444           Accident      SEA87LA080  1948-10-24   \n",
       "1  20001218X45447           Accident      LAX94LA336  1962-07-19   \n",
       "2  20061025X01555           Accident      NYC07LA005  1974-08-30   \n",
       "3  20001218X45448           Accident      LAX96LA321  1977-06-19   \n",
       "4  20041105X01764           Accident      CHI79FA064  1979-08-02   \n",
       "\n",
       "          Location        Country Injury.Severity Aircraft.damage      Make  \\\n",
       "0  MOOSE CREEK, ID  United States        Fatal(2)       Destroyed   Stinson   \n",
       "1   BRIDGEPORT, CA  United States        Fatal(4)       Destroyed     Piper   \n",
       "2    Saltville, VA  United States        Fatal(3)       Destroyed    Cessna   \n",
       "3       EUREKA, CA  United States        Fatal(2)       Destroyed  Rockwell   \n",
       "4       Canton, OH  United States        Fatal(1)       Destroyed    Cessna   \n",
       "\n",
       "      Model  ...    Engine.Type  Purpose.of.flight Total.Fatal.Injuries  \\\n",
       "0     108-3  ...  Reciprocating           Personal                  2.0   \n",
       "1  PA24-180  ...  Reciprocating           Personal                  4.0   \n",
       "2      172M  ...  Reciprocating           Personal                  3.0   \n",
       "3       112  ...  Reciprocating           Personal                  2.0   \n",
       "4       501  ...        Unknown           Personal                  1.0   \n",
       "\n",
       "  Total.Serious.Injuries  Total.Minor.Injuries  Total.Uninjured  \\\n",
       "0                    0.0                   0.0              0.0   \n",
       "1                    0.0                   0.0              0.0   \n",
       "2                    0.0                   0.0              0.0   \n",
       "3                    0.0                   0.0              0.0   \n",
       "4                    2.0                   0.0              0.0   \n",
       "\n",
       "   Weather.Condition  Broad.phase.of.flight   Report.Status Publication.Date  \n",
       "0                UNK                 Cruise  Probable Cause          Unknown  \n",
       "1                UNK                Unknown  Probable Cause       19-09-1996  \n",
       "2                IMC                 Cruise  Probable Cause       26-02-2007  \n",
       "3                IMC                 Cruise  Probable Cause       12-09-2000  \n",
       "4                VMC               Approach  Probable Cause       16-04-1980  \n",
       "\n",
       "[5 rows x 22 columns]"
      ]
     },
     "execution_count": 137,
     "metadata": {},
     "output_type": "execute_result"
    }
   ],
   "source": [
    "df_clean.head()"
   ]
  },
  {
   "cell_type": "code",
   "execution_count": 138,
   "metadata": {},
   "outputs": [
    {
     "name": "stdout",
     "output_type": "stream",
     "text": [
      "Event.Id \n",
      " 20001214X45071    3\n",
      "20001212X19172    3\n",
      "20001208X05746    2\n",
      "20001214X40987    2\n",
      "20001213X32977    2\n",
      "Name: Event.Id, dtype: int64 \n",
      "\n",
      "\n",
      "Investigation.Type \n",
      " Accident    85015\n",
      "Incident     3874\n",
      "Name: Investigation.Type, dtype: int64 \n",
      "\n",
      "\n",
      "Accident.Number \n",
      " CEN23MA034    2\n",
      "ERA22FA318    2\n",
      "DCA22WA158    2\n",
      "WPR23LA045    2\n",
      "DCA22WA204    2\n",
      "Name: Accident.Number, dtype: int64 \n",
      "\n",
      "\n",
      "Event.Date \n",
      " 2000-07-08    25\n",
      "1984-06-30    25\n",
      "1982-05-16    25\n",
      "1986-05-17    24\n",
      "1984-08-25    24\n",
      "Name: Event.Date, dtype: int64 \n",
      "\n",
      "\n",
      "Location \n",
      " ANCHORAGE, AK      434\n",
      "MIAMI, FL          200\n",
      "ALBUQUERQUE, NM    196\n",
      "HOUSTON, TX        193\n",
      "CHICAGO, IL        184\n",
      "Name: Location, dtype: int64 \n",
      "\n",
      "\n",
      "Country \n",
      " United States     82248\n",
      "Brazil              374\n",
      "Canada              359\n",
      "Mexico              358\n",
      "United Kingdom      344\n",
      "Name: Country, dtype: int64 \n",
      "\n",
      "\n",
      "Injury.Severity \n",
      " Non-Fatal    67357\n",
      "Fatal(1)      6167\n",
      "Fatal         5262\n",
      "Fatal(2)      3711\n",
      "Incident      2219\n",
      "Name: Injury.Severity, dtype: int64 \n",
      "\n",
      "\n",
      "Aircraft.damage \n",
      " Substantial    64148\n",
      "Destroyed      18623\n",
      "Minor           2805\n",
      "Unknown          119\n",
      "Name: Aircraft.damage, dtype: int64 \n",
      "\n",
      "\n",
      "Make \n",
      " Cessna    22227\n",
      "Piper     12029\n",
      "CESSNA     4922\n",
      "Beech      4330\n",
      "PIPER      2841\n",
      "Name: Make, dtype: int64 \n",
      "\n",
      "\n",
      "Model \n",
      " 152          2367\n",
      "172          1756\n",
      "172N         1164\n",
      "PA-28-140     932\n",
      "150           829\n",
      "Name: Model, dtype: int64 \n",
      "\n",
      "\n",
      "Amateur.Built \n",
      " No     80312\n",
      "Yes     8475\n",
      "Name: Amateur.Built, dtype: int64 \n",
      "\n",
      "\n",
      "Number.of.Engines \n",
      " 1.0    69582\n",
      "2.0    11079\n",
      "0.0     1226\n",
      "3.0      483\n",
      "4.0      431\n",
      "Name: Number.of.Engines, dtype: int64 \n",
      "\n",
      "\n",
      "Engine.Type \n",
      " Reciprocating    69530\n",
      "Turbo Shaft       3609\n",
      "Turbo Prop        3391\n",
      "Turbo Fan         2481\n",
      "Unknown           2051\n",
      "Name: Engine.Type, dtype: int64 \n",
      "\n",
      "\n",
      "Purpose.of.flight \n",
      " Personal              49448\n",
      "Instructional         10601\n",
      "Unknown                6802\n",
      "Aerial Application     4712\n",
      "Business               4018\n",
      "Name: Purpose.of.flight, dtype: int64 \n",
      "\n",
      "\n",
      "Total.Fatal.Injuries \n",
      " 0.0    59675\n",
      "1.0     8883\n",
      "2.0     5173\n",
      "3.0     1589\n",
      "4.0     1103\n",
      "Name: Total.Fatal.Injuries, dtype: int64 \n",
      "\n",
      "\n",
      "Total.Serious.Injuries \n",
      " 0.0    63289\n",
      "1.0     9125\n",
      "2.0     2815\n",
      "3.0      629\n",
      "4.0      258\n",
      "Name: Total.Serious.Injuries, dtype: int64 \n",
      "\n",
      "\n",
      "Total.Minor.Injuries \n",
      " 0.0    61454\n",
      "1.0    10320\n",
      "2.0     3576\n",
      "3.0      784\n",
      "4.0      372\n",
      "Name: Total.Minor.Injuries, dtype: int64 \n",
      "\n",
      "\n",
      "Total.Uninjured \n",
      " 0.0    29879\n",
      "1.0    25101\n",
      "2.0    15988\n",
      "3.0     4313\n",
      "4.0     2662\n",
      "Name: Total.Uninjured, dtype: int64 \n",
      "\n",
      "\n",
      "Weather.Condition \n",
      " VMC    77303\n",
      "IMC     5976\n",
      "UNK      856\n",
      "Unk      262\n",
      "Name: Weather.Condition, dtype: int64 \n",
      "\n",
      "\n",
      "Broad.phase.of.flight \n",
      " Landing        15428\n",
      "Takeoff        12493\n",
      "Cruise         10269\n",
      "Maneuvering     8144\n",
      "Approach        6546\n",
      "Name: Broad.phase.of.flight, dtype: int64 \n",
      "\n",
      "\n",
      "Report.Status \n",
      " Probable Cause                                                                  61754\n",
      "Foreign                                                                          1999\n",
      "<br /><br />                                                                      167\n",
      "Factual                                                                           145\n",
      "The pilot's failure to maintain directional control during the landing roll.       56\n",
      "Name: Report.Status, dtype: int64 \n",
      "\n",
      "\n",
      "Publication.Date \n",
      " 25-09-2020    17019\n",
      "26-09-2020     1769\n",
      "03-11-2020     1155\n",
      "31-03-1993      452\n",
      "25-11-2003      396\n",
      "Name: Publication.Date, dtype: int64 \n",
      "\n",
      "\n"
     ]
    }
   ],
   "source": [
    "#Check for extraneous/erronous values\n",
    "for col in df_clean.columns:\n",
    "    print(col, '\\n', df[col].value_counts().head(), '\\n\\n')"
   ]
  },
  {
   "cell_type": "code",
   "execution_count": 139,
   "metadata": {},
   "outputs": [],
   "source": [
    "#format Event.Date column \n",
    "df_clean['Event.Date'] = pd.to_datetime(df_clean['Event.Date'], format='%Y-%m-%d')\n"
   ]
  },
  {
   "cell_type": "markdown",
   "metadata": {},
   "source": [
    "##### We will strip any whitespaces in the columns"
   ]
  },
  {
   "cell_type": "code",
   "execution_count": 140,
   "metadata": {},
   "outputs": [],
   "source": [
    "# We  use the str.strip function  to strip the leading and trailing spaces on the columns\n",
    "df_clean.columns = df_clean.columns.str.strip()"
   ]
  },
  {
   "cell_type": "code",
   "execution_count": 141,
   "metadata": {},
   "outputs": [
    {
     "data": {
      "text/html": [
       "<div>\n",
       "<style scoped>\n",
       "    .dataframe tbody tr th:only-of-type {\n",
       "        vertical-align: middle;\n",
       "    }\n",
       "\n",
       "    .dataframe tbody tr th {\n",
       "        vertical-align: top;\n",
       "    }\n",
       "\n",
       "    .dataframe thead th {\n",
       "        text-align: right;\n",
       "    }\n",
       "</style>\n",
       "<table border=\"1\" class=\"dataframe\">\n",
       "  <thead>\n",
       "    <tr style=\"text-align: right;\">\n",
       "      <th></th>\n",
       "      <th>Event.Id</th>\n",
       "      <th>Investigation.Type</th>\n",
       "      <th>Accident.Number</th>\n",
       "      <th>Event.Date</th>\n",
       "      <th>Location</th>\n",
       "      <th>Country</th>\n",
       "      <th>Injury.Severity</th>\n",
       "      <th>Aircraft.damage</th>\n",
       "      <th>Make</th>\n",
       "      <th>Model</th>\n",
       "      <th>...</th>\n",
       "      <th>Engine.Type</th>\n",
       "      <th>Purpose.of.flight</th>\n",
       "      <th>Total.Fatal.Injuries</th>\n",
       "      <th>Total.Serious.Injuries</th>\n",
       "      <th>Total.Minor.Injuries</th>\n",
       "      <th>Total.Uninjured</th>\n",
       "      <th>Weather.Condition</th>\n",
       "      <th>Broad.phase.of.flight</th>\n",
       "      <th>Report.Status</th>\n",
       "      <th>Publication.Date</th>\n",
       "    </tr>\n",
       "  </thead>\n",
       "  <tbody>\n",
       "    <tr>\n",
       "      <th>0</th>\n",
       "      <td>20001218X45444</td>\n",
       "      <td>Accident</td>\n",
       "      <td>SEA87LA080</td>\n",
       "      <td>1948-10-24</td>\n",
       "      <td>MOOSE CREEK, ID</td>\n",
       "      <td>United States</td>\n",
       "      <td>Fatal(2)</td>\n",
       "      <td>Destroyed</td>\n",
       "      <td>Stinson</td>\n",
       "      <td>108-3</td>\n",
       "      <td>...</td>\n",
       "      <td>Reciprocating</td>\n",
       "      <td>Personal</td>\n",
       "      <td>2.0</td>\n",
       "      <td>0.0</td>\n",
       "      <td>0.0</td>\n",
       "      <td>0.0</td>\n",
       "      <td>UNK</td>\n",
       "      <td>Cruise</td>\n",
       "      <td>Probable Cause</td>\n",
       "      <td>Unknown</td>\n",
       "    </tr>\n",
       "    <tr>\n",
       "      <th>1</th>\n",
       "      <td>20001218X45447</td>\n",
       "      <td>Accident</td>\n",
       "      <td>LAX94LA336</td>\n",
       "      <td>1962-07-19</td>\n",
       "      <td>BRIDGEPORT, CA</td>\n",
       "      <td>United States</td>\n",
       "      <td>Fatal(4)</td>\n",
       "      <td>Destroyed</td>\n",
       "      <td>Piper</td>\n",
       "      <td>PA24-180</td>\n",
       "      <td>...</td>\n",
       "      <td>Reciprocating</td>\n",
       "      <td>Personal</td>\n",
       "      <td>4.0</td>\n",
       "      <td>0.0</td>\n",
       "      <td>0.0</td>\n",
       "      <td>0.0</td>\n",
       "      <td>UNK</td>\n",
       "      <td>Unknown</td>\n",
       "      <td>Probable Cause</td>\n",
       "      <td>19-09-1996</td>\n",
       "    </tr>\n",
       "    <tr>\n",
       "      <th>2</th>\n",
       "      <td>20061025X01555</td>\n",
       "      <td>Accident</td>\n",
       "      <td>NYC07LA005</td>\n",
       "      <td>1974-08-30</td>\n",
       "      <td>Saltville, VA</td>\n",
       "      <td>United States</td>\n",
       "      <td>Fatal(3)</td>\n",
       "      <td>Destroyed</td>\n",
       "      <td>Cessna</td>\n",
       "      <td>172M</td>\n",
       "      <td>...</td>\n",
       "      <td>Reciprocating</td>\n",
       "      <td>Personal</td>\n",
       "      <td>3.0</td>\n",
       "      <td>0.0</td>\n",
       "      <td>0.0</td>\n",
       "      <td>0.0</td>\n",
       "      <td>IMC</td>\n",
       "      <td>Cruise</td>\n",
       "      <td>Probable Cause</td>\n",
       "      <td>26-02-2007</td>\n",
       "    </tr>\n",
       "    <tr>\n",
       "      <th>3</th>\n",
       "      <td>20001218X45448</td>\n",
       "      <td>Accident</td>\n",
       "      <td>LAX96LA321</td>\n",
       "      <td>1977-06-19</td>\n",
       "      <td>EUREKA, CA</td>\n",
       "      <td>United States</td>\n",
       "      <td>Fatal(2)</td>\n",
       "      <td>Destroyed</td>\n",
       "      <td>Rockwell</td>\n",
       "      <td>112</td>\n",
       "      <td>...</td>\n",
       "      <td>Reciprocating</td>\n",
       "      <td>Personal</td>\n",
       "      <td>2.0</td>\n",
       "      <td>0.0</td>\n",
       "      <td>0.0</td>\n",
       "      <td>0.0</td>\n",
       "      <td>IMC</td>\n",
       "      <td>Cruise</td>\n",
       "      <td>Probable Cause</td>\n",
       "      <td>12-09-2000</td>\n",
       "    </tr>\n",
       "    <tr>\n",
       "      <th>4</th>\n",
       "      <td>20041105X01764</td>\n",
       "      <td>Accident</td>\n",
       "      <td>CHI79FA064</td>\n",
       "      <td>1979-08-02</td>\n",
       "      <td>Canton, OH</td>\n",
       "      <td>United States</td>\n",
       "      <td>Fatal(1)</td>\n",
       "      <td>Destroyed</td>\n",
       "      <td>Cessna</td>\n",
       "      <td>501</td>\n",
       "      <td>...</td>\n",
       "      <td>Unknown</td>\n",
       "      <td>Personal</td>\n",
       "      <td>1.0</td>\n",
       "      <td>2.0</td>\n",
       "      <td>0.0</td>\n",
       "      <td>0.0</td>\n",
       "      <td>VMC</td>\n",
       "      <td>Approach</td>\n",
       "      <td>Probable Cause</td>\n",
       "      <td>16-04-1980</td>\n",
       "    </tr>\n",
       "  </tbody>\n",
       "</table>\n",
       "<p>5 rows × 22 columns</p>\n",
       "</div>"
      ],
      "text/plain": [
       "         Event.Id Investigation.Type Accident.Number Event.Date  \\\n",
       "0  20001218X45444           Accident      SEA87LA080 1948-10-24   \n",
       "1  20001218X45447           Accident      LAX94LA336 1962-07-19   \n",
       "2  20061025X01555           Accident      NYC07LA005 1974-08-30   \n",
       "3  20001218X45448           Accident      LAX96LA321 1977-06-19   \n",
       "4  20041105X01764           Accident      CHI79FA064 1979-08-02   \n",
       "\n",
       "          Location        Country Injury.Severity Aircraft.damage      Make  \\\n",
       "0  MOOSE CREEK, ID  United States        Fatal(2)       Destroyed   Stinson   \n",
       "1   BRIDGEPORT, CA  United States        Fatal(4)       Destroyed     Piper   \n",
       "2    Saltville, VA  United States        Fatal(3)       Destroyed    Cessna   \n",
       "3       EUREKA, CA  United States        Fatal(2)       Destroyed  Rockwell   \n",
       "4       Canton, OH  United States        Fatal(1)       Destroyed    Cessna   \n",
       "\n",
       "      Model  ...    Engine.Type  Purpose.of.flight Total.Fatal.Injuries  \\\n",
       "0     108-3  ...  Reciprocating           Personal                  2.0   \n",
       "1  PA24-180  ...  Reciprocating           Personal                  4.0   \n",
       "2      172M  ...  Reciprocating           Personal                  3.0   \n",
       "3       112  ...  Reciprocating           Personal                  2.0   \n",
       "4       501  ...        Unknown           Personal                  1.0   \n",
       "\n",
       "  Total.Serious.Injuries  Total.Minor.Injuries  Total.Uninjured  \\\n",
       "0                    0.0                   0.0              0.0   \n",
       "1                    0.0                   0.0              0.0   \n",
       "2                    0.0                   0.0              0.0   \n",
       "3                    0.0                   0.0              0.0   \n",
       "4                    2.0                   0.0              0.0   \n",
       "\n",
       "   Weather.Condition  Broad.phase.of.flight   Report.Status Publication.Date  \n",
       "0                UNK                 Cruise  Probable Cause          Unknown  \n",
       "1                UNK                Unknown  Probable Cause       19-09-1996  \n",
       "2                IMC                 Cruise  Probable Cause       26-02-2007  \n",
       "3                IMC                 Cruise  Probable Cause       12-09-2000  \n",
       "4                VMC               Approach  Probable Cause       16-04-1980  \n",
       "\n",
       "[5 rows x 22 columns]"
      ]
     },
     "execution_count": 141,
     "metadata": {},
     "output_type": "execute_result"
    }
   ],
   "source": [
    "df_clean.head()"
   ]
  },
  {
   "cell_type": "code",
   "execution_count": 142,
   "metadata": {},
   "outputs": [
    {
     "data": {
      "text/html": [
       "<div>\n",
       "<style scoped>\n",
       "    .dataframe tbody tr th:only-of-type {\n",
       "        vertical-align: middle;\n",
       "    }\n",
       "\n",
       "    .dataframe tbody tr th {\n",
       "        vertical-align: top;\n",
       "    }\n",
       "\n",
       "    .dataframe thead th {\n",
       "        text-align: right;\n",
       "    }\n",
       "</style>\n",
       "<table border=\"1\" class=\"dataframe\">\n",
       "  <thead>\n",
       "    <tr style=\"text-align: right;\">\n",
       "      <th></th>\n",
       "      <th>Investigation.Type</th>\n",
       "      <th>Accident_Numbers</th>\n",
       "    </tr>\n",
       "  </thead>\n",
       "  <tbody>\n",
       "    <tr>\n",
       "      <th>0</th>\n",
       "      <td>Accident</td>\n",
       "      <td>1</td>\n",
       "    </tr>\n",
       "    <tr>\n",
       "      <th>1</th>\n",
       "      <td>Accident</td>\n",
       "      <td>1</td>\n",
       "    </tr>\n",
       "    <tr>\n",
       "      <th>2</th>\n",
       "      <td>Accident</td>\n",
       "      <td>1</td>\n",
       "    </tr>\n",
       "    <tr>\n",
       "      <th>3</th>\n",
       "      <td>Accident</td>\n",
       "      <td>1</td>\n",
       "    </tr>\n",
       "    <tr>\n",
       "      <th>4</th>\n",
       "      <td>Accident</td>\n",
       "      <td>1</td>\n",
       "    </tr>\n",
       "  </tbody>\n",
       "</table>\n",
       "</div>"
      ],
      "text/plain": [
       "  Investigation.Type  Accident_Numbers\n",
       "0           Accident                 1\n",
       "1           Accident                 1\n",
       "2           Accident                 1\n",
       "3           Accident                 1\n",
       "4           Accident                 1"
      ]
     },
     "execution_count": 142,
     "metadata": {},
     "output_type": "execute_result"
    }
   ],
   "source": [
    "df_clean['Accident_Numbers'] = df_clean['Investigation.Type'].apply(lambda x: 1 if x == 'Accident' else 0)\n",
    "\n",
    "# Verify the new column\n",
    "df_clean[['Investigation.Type', 'Accident_Numbers']].head()"
   ]
  },
  {
   "cell_type": "code",
   "execution_count": 143,
   "metadata": {},
   "outputs": [
    {
     "name": "stdout",
     "output_type": "stream",
     "text": [
      "Index(['Event_Id', 'Investigation_Type', 'Accident_Number', 'Event_Date',\n",
      "       'Location', 'Country', 'Injury_Severity', 'Aircraft_damage', 'Make',\n",
      "       'Model', 'Amateur_Built', 'Number_of_Engines', 'Engine_Type',\n",
      "       'Purpose_of_flight', 'Total_Fatal_Injuries', 'Total_Serious_Injuries',\n",
      "       'Total_Minor_Injuries', 'Total_Uninjured', 'Weather_Condition',\n",
      "       'Broad_phase_of_flight', 'Report_Status', 'Publication_Date',\n",
      "       'Accident_Numbers'],\n",
      "      dtype='object')\n"
     ]
    }
   ],
   "source": [
    "df_clean.columns = df_clean.columns.str.replace('.', '_', regex=False)\n",
    "\n",
    "# Display the updated column names\n",
    "print(df_clean.columns)"
   ]
  },
  {
   "cell_type": "code",
   "execution_count": 144,
   "metadata": {},
   "outputs": [],
   "source": [
    "#Removing the double entries from the  Make column and making all of them to be in  lower case to avoid confusion\n",
    "df_clean['Make'] = df_clean['Make'].str.title()"
   ]
  },
  {
   "cell_type": "markdown",
   "metadata": {},
   "source": [
    "##### We now save the cleaned data to a csv file"
   ]
  },
  {
   "cell_type": "code",
   "execution_count": 145,
   "metadata": {},
   "outputs": [],
   "source": [
    "df_clean.to_csv('Aviation_cleaned.csv',index = False)"
   ]
  },
  {
   "cell_type": "markdown",
   "metadata": {},
   "source": [
    "## 5. Exploratory Data Analysis"
   ]
  },
  {
   "cell_type": "markdown",
   "metadata": {},
   "source": [
    "#####  In this section we are using visualizations to address the objectives we listed earlier. "
   ]
  },
  {
   "cell_type": "code",
   "execution_count": 146,
   "metadata": {},
   "outputs": [
    {
     "data": {
      "text/html": [
       "<div>\n",
       "<style scoped>\n",
       "    .dataframe tbody tr th:only-of-type {\n",
       "        vertical-align: middle;\n",
       "    }\n",
       "\n",
       "    .dataframe tbody tr th {\n",
       "        vertical-align: top;\n",
       "    }\n",
       "\n",
       "    .dataframe thead th {\n",
       "        text-align: right;\n",
       "    }\n",
       "</style>\n",
       "<table border=\"1\" class=\"dataframe\">\n",
       "  <thead>\n",
       "    <tr style=\"text-align: right;\">\n",
       "      <th></th>\n",
       "      <th>Event_Id</th>\n",
       "      <th>Investigation_Type</th>\n",
       "      <th>Accident_Number</th>\n",
       "      <th>Event_Date</th>\n",
       "      <th>Location</th>\n",
       "      <th>Country</th>\n",
       "      <th>Injury_Severity</th>\n",
       "      <th>Aircraft_damage</th>\n",
       "      <th>Make</th>\n",
       "      <th>Model</th>\n",
       "      <th>...</th>\n",
       "      <th>Purpose_of_flight</th>\n",
       "      <th>Total_Fatal_Injuries</th>\n",
       "      <th>Total_Serious_Injuries</th>\n",
       "      <th>Total_Minor_Injuries</th>\n",
       "      <th>Total_Uninjured</th>\n",
       "      <th>Weather_Condition</th>\n",
       "      <th>Broad_phase_of_flight</th>\n",
       "      <th>Report_Status</th>\n",
       "      <th>Publication_Date</th>\n",
       "      <th>Accident_Numbers</th>\n",
       "    </tr>\n",
       "  </thead>\n",
       "  <tbody>\n",
       "    <tr>\n",
       "      <th>0</th>\n",
       "      <td>20001218X45444</td>\n",
       "      <td>Accident</td>\n",
       "      <td>SEA87LA080</td>\n",
       "      <td>1948-10-24</td>\n",
       "      <td>MOOSE CREEK, ID</td>\n",
       "      <td>United States</td>\n",
       "      <td>Fatal(2)</td>\n",
       "      <td>Destroyed</td>\n",
       "      <td>Stinson</td>\n",
       "      <td>108-3</td>\n",
       "      <td>...</td>\n",
       "      <td>Personal</td>\n",
       "      <td>2.0</td>\n",
       "      <td>0.0</td>\n",
       "      <td>0.0</td>\n",
       "      <td>0.0</td>\n",
       "      <td>UNK</td>\n",
       "      <td>Cruise</td>\n",
       "      <td>Probable Cause</td>\n",
       "      <td>Unknown</td>\n",
       "      <td>1</td>\n",
       "    </tr>\n",
       "    <tr>\n",
       "      <th>1</th>\n",
       "      <td>20001218X45447</td>\n",
       "      <td>Accident</td>\n",
       "      <td>LAX94LA336</td>\n",
       "      <td>1962-07-19</td>\n",
       "      <td>BRIDGEPORT, CA</td>\n",
       "      <td>United States</td>\n",
       "      <td>Fatal(4)</td>\n",
       "      <td>Destroyed</td>\n",
       "      <td>Piper</td>\n",
       "      <td>PA24-180</td>\n",
       "      <td>...</td>\n",
       "      <td>Personal</td>\n",
       "      <td>4.0</td>\n",
       "      <td>0.0</td>\n",
       "      <td>0.0</td>\n",
       "      <td>0.0</td>\n",
       "      <td>UNK</td>\n",
       "      <td>Unknown</td>\n",
       "      <td>Probable Cause</td>\n",
       "      <td>19-09-1996</td>\n",
       "      <td>1</td>\n",
       "    </tr>\n",
       "    <tr>\n",
       "      <th>2</th>\n",
       "      <td>20061025X01555</td>\n",
       "      <td>Accident</td>\n",
       "      <td>NYC07LA005</td>\n",
       "      <td>1974-08-30</td>\n",
       "      <td>Saltville, VA</td>\n",
       "      <td>United States</td>\n",
       "      <td>Fatal(3)</td>\n",
       "      <td>Destroyed</td>\n",
       "      <td>Cessna</td>\n",
       "      <td>172M</td>\n",
       "      <td>...</td>\n",
       "      <td>Personal</td>\n",
       "      <td>3.0</td>\n",
       "      <td>0.0</td>\n",
       "      <td>0.0</td>\n",
       "      <td>0.0</td>\n",
       "      <td>IMC</td>\n",
       "      <td>Cruise</td>\n",
       "      <td>Probable Cause</td>\n",
       "      <td>26-02-2007</td>\n",
       "      <td>1</td>\n",
       "    </tr>\n",
       "    <tr>\n",
       "      <th>3</th>\n",
       "      <td>20001218X45448</td>\n",
       "      <td>Accident</td>\n",
       "      <td>LAX96LA321</td>\n",
       "      <td>1977-06-19</td>\n",
       "      <td>EUREKA, CA</td>\n",
       "      <td>United States</td>\n",
       "      <td>Fatal(2)</td>\n",
       "      <td>Destroyed</td>\n",
       "      <td>Rockwell</td>\n",
       "      <td>112</td>\n",
       "      <td>...</td>\n",
       "      <td>Personal</td>\n",
       "      <td>2.0</td>\n",
       "      <td>0.0</td>\n",
       "      <td>0.0</td>\n",
       "      <td>0.0</td>\n",
       "      <td>IMC</td>\n",
       "      <td>Cruise</td>\n",
       "      <td>Probable Cause</td>\n",
       "      <td>12-09-2000</td>\n",
       "      <td>1</td>\n",
       "    </tr>\n",
       "    <tr>\n",
       "      <th>4</th>\n",
       "      <td>20041105X01764</td>\n",
       "      <td>Accident</td>\n",
       "      <td>CHI79FA064</td>\n",
       "      <td>1979-08-02</td>\n",
       "      <td>Canton, OH</td>\n",
       "      <td>United States</td>\n",
       "      <td>Fatal(1)</td>\n",
       "      <td>Destroyed</td>\n",
       "      <td>Cessna</td>\n",
       "      <td>501</td>\n",
       "      <td>...</td>\n",
       "      <td>Personal</td>\n",
       "      <td>1.0</td>\n",
       "      <td>2.0</td>\n",
       "      <td>0.0</td>\n",
       "      <td>0.0</td>\n",
       "      <td>VMC</td>\n",
       "      <td>Approach</td>\n",
       "      <td>Probable Cause</td>\n",
       "      <td>16-04-1980</td>\n",
       "      <td>1</td>\n",
       "    </tr>\n",
       "  </tbody>\n",
       "</table>\n",
       "<p>5 rows × 23 columns</p>\n",
       "</div>"
      ],
      "text/plain": [
       "         Event_Id Investigation_Type Accident_Number  Event_Date  \\\n",
       "0  20001218X45444           Accident      SEA87LA080  1948-10-24   \n",
       "1  20001218X45447           Accident      LAX94LA336  1962-07-19   \n",
       "2  20061025X01555           Accident      NYC07LA005  1974-08-30   \n",
       "3  20001218X45448           Accident      LAX96LA321  1977-06-19   \n",
       "4  20041105X01764           Accident      CHI79FA064  1979-08-02   \n",
       "\n",
       "          Location        Country Injury_Severity Aircraft_damage      Make  \\\n",
       "0  MOOSE CREEK, ID  United States        Fatal(2)       Destroyed   Stinson   \n",
       "1   BRIDGEPORT, CA  United States        Fatal(4)       Destroyed     Piper   \n",
       "2    Saltville, VA  United States        Fatal(3)       Destroyed    Cessna   \n",
       "3       EUREKA, CA  United States        Fatal(2)       Destroyed  Rockwell   \n",
       "4       Canton, OH  United States        Fatal(1)       Destroyed    Cessna   \n",
       "\n",
       "      Model  ... Purpose_of_flight  Total_Fatal_Injuries  \\\n",
       "0     108-3  ...          Personal                   2.0   \n",
       "1  PA24-180  ...          Personal                   4.0   \n",
       "2      172M  ...          Personal                   3.0   \n",
       "3       112  ...          Personal                   2.0   \n",
       "4       501  ...          Personal                   1.0   \n",
       "\n",
       "  Total_Serious_Injuries Total_Minor_Injuries  Total_Uninjured  \\\n",
       "0                    0.0                  0.0              0.0   \n",
       "1                    0.0                  0.0              0.0   \n",
       "2                    0.0                  0.0              0.0   \n",
       "3                    0.0                  0.0              0.0   \n",
       "4                    2.0                  0.0              0.0   \n",
       "\n",
       "   Weather_Condition  Broad_phase_of_flight   Report_Status Publication_Date  \\\n",
       "0                UNK                 Cruise  Probable Cause          Unknown   \n",
       "1                UNK                Unknown  Probable Cause       19-09-1996   \n",
       "2                IMC                 Cruise  Probable Cause       26-02-2007   \n",
       "3                IMC                 Cruise  Probable Cause       12-09-2000   \n",
       "4                VMC               Approach  Probable Cause       16-04-1980   \n",
       "\n",
       "  Accident_Numbers  \n",
       "0                1  \n",
       "1                1  \n",
       "2                1  \n",
       "3                1  \n",
       "4                1  \n",
       "\n",
       "[5 rows x 23 columns]"
      ]
     },
     "execution_count": 146,
     "metadata": {},
     "output_type": "execute_result"
    }
   ],
   "source": [
    "# We now load the cleaned dataset for visualizations\n",
    "df1 = pd.read_csv('Aviation_cleaned.csv',low_memory=False)\n",
    "df1.head()"
   ]
  },
  {
   "cell_type": "markdown",
   "metadata": {},
   "source": [
    "##### We will first do a graphical representation in a pie chart of the Investigation.Type column to be able to know the relative percentages of the two possibilities(Accident and Incident)"
   ]
  },
  {
   "cell_type": "code",
   "execution_count": 147,
   "metadata": {},
   "outputs": [
    {
     "data": {
      "image/png": "[encoded data removed]",
      "text/plain": [
       "<Figure size 432x432 with 1 Axes>"
      ]
     },
     "metadata": {},
     "output_type": "display_data"
    }
   ],
   "source": [
    "\n",
    "investigation_type_counts = df1['Investigation_Type'].value_counts()\n",
    "# Create the pie chart\n",
    "plt.figure(figsize=(6, 6),facecolor='white')\n",
    "plt.pie(investigation_type_counts, \n",
    "        labels=investigation_type_counts.index, autopct='%1.1f%%', \n",
    "        startangle=90, colors=['r', 'g'])\n",
    "\n",
    "# Equal aspect ratio ensures that pie is drawn as a circle\n",
    "#plt.axis('equal')\n",
    "\n",
    "# Title for the chart\n",
    "plt.title('Distribution of Investigation Types',fontname='Trebuchet Ms',fontsize=17)\n",
    "\n",
    "# Show the pie chart\n",
    "plt.show()\n"
   ]
  },
  {
   "cell_type": "markdown",
   "metadata": {},
   "source": [
    "##### From the graphical representation above we can see that the accidents takes 95.6% of the investigation done while the incidences take 4.4% of the investigation done."
   ]
  },
  {
   "cell_type": "markdown",
   "metadata": {},
   "source": [
    "#### Objective 1:Identify aircraft models and makes with a highest likelihood of  accidents "
   ]
  },
  {
   "cell_type": "markdown",
   "metadata": {},
   "source": [
    "##### Objective 1.1:Identify aircraft  make with a highest likelihood of  accidents "
   ]
  },
  {
   "cell_type": "markdown",
   "metadata": {},
   "source": [
    "#####  This visualization will involve categorizing the number of accidents per make and per model.We will thereby have two visualizations to address the objective"
   ]
  },
  {
   "cell_type": "code",
   "execution_count": 148,
   "metadata": {},
   "outputs": [
    {
     "name": "stdout",
     "output_type": "stream",
     "text": [
      "The top 15 Aircraft Makes with the most accident occurences:\n",
      "Make\n",
      "Cessna         26793\n",
      "Piper          14684\n",
      "Beech           5177\n",
      "Bell            2662\n",
      "Boeing          1362\n",
      "Mooney          1311\n",
      "Robinson        1219\n",
      "Grumman         1158\n",
      "Bellanca        1040\n",
      "Hughes           925\n",
      "Schweizer        770\n",
      "Air Tractor      689\n",
      "Aeronca          633\n",
      "Maule            587\n",
      "Champion         517\n",
      "dtype: int64\n",
      "\n",
      "\n",
      "\n",
      "Top 15 Aircraft Models with the most accident occurences:\n",
      "Model\n",
      "152          2349\n",
      "172          1747\n",
      "172N         1161\n",
      "PA-28-140     929\n",
      "150           822\n",
      "172M          793\n",
      "172P          685\n",
      "182           653\n",
      "180           621\n",
      "150M          583\n",
      "PA-18         581\n",
      "PA-18-150     578\n",
      "PA-28-180     571\n",
      "PA-28-161     565\n",
      "PA-28-181     528\n",
      "dtype: int64\n",
      "\n",
      "\n",
      "\n"
     ]
    }
   ],
   "source": [
    "#This line filters the df1 DataFrame to include only rows where the Investigation.Type column has the value 'Accident'.\n",
    "Accidents = df1[df1['Investigation_Type'] == 'Accident']\n",
    "Make_Accidents = Accidents.groupby('Make').size().sort_values(ascending=False)\n",
    "Model_Accidents = Accidents.groupby('Model').size().sort_values(ascending=False)\n",
    "# We now print the top 15 Aircrafts with the most accident occurences both the model and the make\n",
    "print(f'The top 15 Aircraft Makes with the most accident occurences:\\n{Make_Accidents.head(15)}\\n\\n\\n')\n",
    "print(f'Top 15 Aircraft Models with the most accident occurences:\\n{Model_Accidents.head(15)}\\n\\n\\n')"
   ]
  },
  {
   "cell_type": "code",
   "execution_count": 155,
   "metadata": {},
   "outputs": [
    {
     "data": {
      "image/png": "[encoded data removed]",
      "text/plain": [
       "<Figure size 576x1152 with 1 Axes>"
      ]
     },
     "metadata": {
      "needs_background": "light"
     },
     "output_type": "display_data"
    }
   ],
   "source": [
    "fig, ax = plt.subplots(figsize=(8, 16))\n",
    "\n",
    "# Use Make_Accidents for x-axis and its values for height\n",
    "x = Make_Accidents.head(15).index  # Extract the labels (Make names)\n",
    "height = Make_Accidents.head(15).values  # Extract the corresponding values (number of accidents)\n",
    "\n",
    "ax.bar(x, height)\n",
    "ax.set_xlabel('The make of the Aircraft')  # Fixed method name\n",
    "ax.set_ylabel('The number of accidents')  # Fixed method name\n",
    "ax.set_title('The top 15 Aircraft makes with the highest numbers of accidents')\n",
    "\n",
    "plt.xticks(rotation=45, ha='right')  # Rotate x-axis labels for better readability\n",
    "plt.tight_layout()  # Adjust layout to prevent label overlap\n",
    "plt.show()"
   ]
  },
  {
   "cell_type": "markdown",
   "metadata": {},
   "source": [
    "##### From the figure plotted above it can be clearly see that cessna and piper make aircrafts have the highest incidences of accidents."
   ]
  },
  {
   "cell_type": "markdown",
   "metadata": {},
   "source": [
    "##### Objective 1.2 :Identify aircraft  models with the highest likelihood of  accidents "
   ]
  },
  {
   "cell_type": "code",
   "execution_count": 157,
   "metadata": {},
   "outputs": [
    {
     "data": {
      "image/png": "[encoded data removed]",
      "text/plain": [
       "<Figure size 576x1152 with 1 Axes>"
      ]
     },
     "metadata": {
      "needs_background": "light"
     },
     "output_type": "display_data"
    }
   ],
   "source": [
    "fig, ax = plt.subplots(figsize=(8, 16))\n",
    "\n",
    "# Use Make_Accidents for x-axis and its values for height\n",
    "x = Model_Accidents.head(15).index  # Extract the labels (Make names)\n",
    "height = Model_Accidents.head(15).values  # Extract the corresponding values (number of accidents)\n",
    "\n",
    "ax.bar(x, height,color='green',)\n",
    "ax.set_xlabel('The make of the Aircraft')  # Fixed method name\n",
    "ax.set_ylabel('The number of accidents')  # Fixed method name\n",
    "ax.set_title('The top 15 Aircraft models with the highest numbers of accidents')\n",
    "\n",
    "plt.xticks(rotation=45, ha='right')  # Rotate x-axis labels for better readability\n",
    "plt.tight_layout()  # Adjust layout to prevent label overlap\n",
    "plt.show()"
   ]
  },
  {
   "cell_type": "markdown",
   "metadata": {},
   "source": [
    "##### From the figure plotted above it can be clearly see that 152 and 172 model aircrafts have incredibly high  incidences of accidents."
   ]
  },
  {
   "cell_type": "markdown",
   "metadata": {},
   "source": [
    "##### Objective 2: Pinpoint locations that have historically proven risky for aircraft operations, highlighting potential geographic safety concerns.\n"
   ]
  },
  {
   "cell_type": "code",
   "execution_count": 151,
   "metadata": {},
   "outputs": [
    {
     "data": {
      "text/plain": [
       "Location\n",
       "ANCHORAGE, AK      434\n",
       "MIAMI, FL          200\n",
       "ALBUQUERQUE, NM    196\n",
       "HOUSTON, TX        193\n",
       "CHICAGO, IL        184\n",
       "FAIRBANKS, AK      174\n",
       "TUCSON, AZ         142\n",
       "ORLANDO, FL        132\n",
       "PHOENIX, AZ        132\n",
       "ENGLEWOOD, CO      131\n",
       "dtype: int64"
      ]
     },
     "execution_count": 151,
     "metadata": {},
     "output_type": "execute_result"
    }
   ],
   "source": [
    "# Analysing  the number of accidents per location using the groupby function \n",
    "Accidents_location = df1.groupby('Location').size().sort_values(ascending=False).head(10)\n",
    "Accidents_location"
   ]
  },
  {
   "cell_type": "markdown",
   "metadata": {},
   "source": [
    "##### From the above output we are shown the top ten locations risky for aircraft operations"
   ]
  },
  {
   "cell_type": "code",
   "execution_count": 152,
   "metadata": {},
   "outputs": [
    {
     "data": {
      "image/png": "[encoded data removed]",
      "text/plain": [
       "<Figure size 720x432 with 1 Axes>"
      ]
     },
     "metadata": {
      "needs_background": "light"
     },
     "output_type": "display_data"
    }
   ],
   "source": [
    "fig, ax = plt.subplots(figsize = (10, 6))\n",
    "x = Accidents_location.index\n",
    "heights = Accidents_location.values\n",
    "\n",
    "bar_title ='Locations with the highest number of aircraft Accidents'\n",
    "bar_count_label = 'The number of Airctaft Accidents'\n",
    "bar_series_label = 'Risky locations for aircraft operations'\n",
    "\n",
    "ax.bar(x, heights,color = 'b')\n",
    "ax.set_xlabel(bar_series_label)\n",
    "ax.set_ylabel(bar_count_label,)\n",
    "plt.tight_layout()\n",
    "plt.show()"
   ]
  },
  {
   "cell_type": "markdown",
   "metadata": {},
   "source": [
    "##### Objective 3: Determine the number of engines sufficient for ensuring the stability and safety of aircraft operations."
   ]
  },
  {
   "cell_type": "code",
   "execution_count": 153,
   "metadata": {},
   "outputs": [
    {
     "data": {
      "text/html": [
       "<div>\n",
       "<style scoped>\n",
       "    .dataframe tbody tr th:only-of-type {\n",
       "        vertical-align: middle;\n",
       "    }\n",
       "\n",
       "    .dataframe tbody tr th {\n",
       "        vertical-align: top;\n",
       "    }\n",
       "\n",
       "    .dataframe thead th {\n",
       "        text-align: right;\n",
       "    }\n",
       "</style>\n",
       "<table border=\"1\" class=\"dataframe\">\n",
       "  <thead>\n",
       "    <tr style=\"text-align: right;\">\n",
       "      <th></th>\n",
       "      <th>Number_of_Engines</th>\n",
       "      <th>Investigation_Type</th>\n",
       "    </tr>\n",
       "  </thead>\n",
       "  <tbody>\n",
       "    <tr>\n",
       "      <th>0</th>\n",
       "      <td>0.000000</td>\n",
       "      <td>1226</td>\n",
       "    </tr>\n",
       "    <tr>\n",
       "      <th>1</th>\n",
       "      <td>1.000000</td>\n",
       "      <td>69582</td>\n",
       "    </tr>\n",
       "    <tr>\n",
       "      <th>2</th>\n",
       "      <td>1.146585</td>\n",
       "      <td>6084</td>\n",
       "    </tr>\n",
       "    <tr>\n",
       "      <th>3</th>\n",
       "      <td>2.000000</td>\n",
       "      <td>11079</td>\n",
       "    </tr>\n",
       "    <tr>\n",
       "      <th>4</th>\n",
       "      <td>3.000000</td>\n",
       "      <td>483</td>\n",
       "    </tr>\n",
       "    <tr>\n",
       "      <th>5</th>\n",
       "      <td>4.000000</td>\n",
       "      <td>431</td>\n",
       "    </tr>\n",
       "    <tr>\n",
       "      <th>6</th>\n",
       "      <td>6.000000</td>\n",
       "      <td>1</td>\n",
       "    </tr>\n",
       "    <tr>\n",
       "      <th>7</th>\n",
       "      <td>8.000000</td>\n",
       "      <td>3</td>\n",
       "    </tr>\n",
       "  </tbody>\n",
       "</table>\n",
       "</div>"
      ],
      "text/plain": [
       "   Number_of_Engines  Investigation_Type\n",
       "0           0.000000                1226\n",
       "1           1.000000               69582\n",
       "2           1.146585                6084\n",
       "3           2.000000               11079\n",
       "4           3.000000                 483\n",
       "5           4.000000                 431\n",
       "6           6.000000                   1\n",
       "7           8.000000                   3"
      ]
     },
     "execution_count": 153,
     "metadata": {},
     "output_type": "execute_result"
    }
   ],
   "source": [
    "# Analysis of number of accidents by number of engines Number.of.Engines,  Engine.Type\n",
    "Engine_Accidents = pd.pivot_table(df1,index='Number_of_Engines',values=['Investigation_Type'],aggfunc=np.size).reset_index()\n",
    "Engine_Accidents"
   ]
  },
  {
   "cell_type": "code",
   "execution_count": 154,
   "metadata": {},
   "outputs": [
    {
     "data": {
      "image/png": "[encoded data removed]",
      "text/plain": [
       "<Figure size 720x432 with 1 Axes>"
      ]
     },
     "metadata": {
      "needs_background": "light"
     },
     "output_type": "display_data"
    }
   ],
   "source": [
    "fig, ax = plt.subplots(figsize=(10,6))\n",
    "x = Engine_Accidents['Number_of_Engines']\n",
    "y = Engine_Accidents['Investigation_Type']\n",
    "ax.bar(x, y, color='r')  # Use 'y' for the height of the bars\n",
    "ax.set_xlabel('Number_of_Engines')  # Call set_xlabel as a function\n",
    "ax.set_ylabel('Number of Accidents')  # Call set_ylabel as a function\n",
    "ax.set_title('Number of Accidents by the number of engines')\n",
    "plt.tight_layout()"
   ]
  },
  {
   "cell_type": "markdown",
   "metadata": {},
   "source": [
    "##### The Aircrafts with more than 4 engines have lesser occurrences of accidents meaning those aircrafts with less than four engines have a greater probability of accidents."
   ]
  },
  {
   "cell_type": "markdown",
   "metadata": {},
   "source": [
    "## Conclusions"
   ]
  },
  {
   "cell_type": "markdown",
   "metadata": {},
   "source": [
    "##### From the graphical representation above we can see that the accidents takes 95.6% of the investigation done while the incidences take 4.4% of the investigation done.\n",
    "##### We can conclude that the model with the most accident occurences is the 152 and 172.For the make we have the Cessna leading with the highest number of accidents followed bt the Piper. \n",
    "\n",
    "##### We can see that the locations that  aircrafts are at a risk of accidents are Anchorage, Miami and Houston .\n",
    "\n",
    "##### We can see that the aircrafts with more than 4 engines have lesser occurrences of accidents. This would also mean that the aircrafts with less than four engines have a greater probability of accidents. "
   ]
  },
  {
   "cell_type": "markdown",
   "metadata": {},
   "source": [
    "## Recommendations\n",
    "##### Aircraft Makes and models\n",
    "##### -Avoid aircraft makes and models that have high accident rates, including brands like Cessna and Piper.\n",
    "##### Location\n",
    "##### -Locations with a high risk of accidents should be avoided.This can help airlines to ensure the stability and safety of their aircraft operations.\n",
    "##### Number of engines.\n",
    "##### -Opt for aircraft with more than four engines to minimize the risk of accidents."
   ]
  }
 ],
 "metadata": {
  "kernelspec": {
   "display_name": "learn env",
   "language": "python",
   "name": "learn-env"
  },
  "language_info": {
   "codemirror_mode": {
    "name": "ipython",
    "version": 3
   },
   "file_extension": ".py",
   "mimetype": "text/x-python",
   "name": "python",
   "nbconvert_exporter": "python",
   "pygments_lexer": "ipython3",
   "version": "3.8.5"
  }
 },
 "nbformat": 4,
 "nbformat_minor": 2
}
